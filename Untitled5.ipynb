{
 "cells": [
  {
   "cell_type": "code",
   "execution_count": 1,
   "id": "3c9c08dd-b9ee-458e-b358-43316e14ee40",
   "metadata": {},
   "outputs": [],
   "source": [
    "import urllib.robotparser\n",
    "url_prefix = \"localhost:8888\" # 根据当前地址栏的端口设置端口，jupyter默认为8888\n",
    "rp = urllib.robotparser.RobotFileParser()\n",
    "robots_url = \"http://%s/view/robots.txt\" % url_prefix"
   ]
  },
  {
   "cell_type": "code",
   "execution_count": 2,
   "id": "7a0e20e5-f0e6-4ee5-b157-3f1edf0c1a4b",
   "metadata": {},
   "outputs": [
    {
     "data": {
      "text/plain": [
       "'http://localhost:8888/view/robots.txt'"
      ]
     },
     "execution_count": 2,
     "metadata": {},
     "output_type": "execute_result"
    }
   ],
   "source": [
    "robots_url"
   ]
  },
  {
   "cell_type": "code",
   "execution_count": 3,
   "id": "c1c0d3b4-e291-4bfb-9c16-8ccf985e9b91",
   "metadata": {},
   "outputs": [
    {
     "data": {
      "text/plain": [
       "True"
      ]
     },
     "execution_count": 3,
     "metadata": {},
     "output_type": "execute_result"
    }
   ],
   "source": [
    "rp.set_url(robots_url)\n",
    "rp.read()\n",
    "rp.can_fetch(\"Baiduspider\", \"http://%s/\" % url_prefix)"
   ]
  },
  {
   "cell_type": "code",
   "execution_count": 4,
   "id": "4db3a9fd-6f6f-498e-9110-526d3a058fe5",
   "metadata": {},
   "outputs": [
    {
     "data": {
      "text/plain": [
       "True"
      ]
     },
     "execution_count": 4,
     "metadata": {},
     "output_type": "execute_result"
    }
   ],
   "source": [
    "rp.can_fetch(\"Baiduspider\", \"http://%s/article/\" % url_prefix)"
   ]
  },
  {
   "cell_type": "code",
   "execution_count": 5,
   "id": "425b9c11-1f79-46ab-9a48-5d5546083173",
   "metadata": {},
   "outputs": [
    {
     "name": "stdout",
     "output_type": "stream",
     "text": [
      "<!DOCTYPE HTML>\n",
      "<html>\n",
      "\n",
      "<head>\n",
      "\n",
      "    <meta charset=\"utf-8\">\n",
      "\n",
      "    <title>Jupyter Server</title>\n",
      "    <link id=\"favicon\" rel=\"shortcut icon\" type=\"image/x-icon\" href=\"/static/favicon.ico?v=50afa725b5de8b00030139d09b38620224d4e7dba47c07ef0e86d4643f30c9bfe6bb7e1a4a1c561aa32834480909a4b6fe7cd1e17f7159330b6b5914bf45a880\">\n",
      "    \n",
      "    <link rel=\"stylesheet\" href=\"/static/style/bootstrap.min.css?v=0e8a7fbd6de23ad6b27ab95802a0a0915af6693af612bc304d83af445529ce5d95842309ca3405d10f538d45c8a3a261b8cff78b4bd512dd9effb4109a71d0ab\" />\n",
      "    <link rel=\"stylesheet\" href=\"/static/style/bootstrap-theme.min.css?v=8b2f045cb5b4d5ad346f6e816aa2566829a4f5f2783ec31d80d46a57de8ac0c3d21fe6e53bcd8e1f38ac17fcd06d12088bc9b43e23b5d1da52d10c6b717b22b3\" />\n",
      "    <link rel=\"stylesheet\" href=\"/static/style/index.css?v=30372e3246a801d662cf9e3f9dd656fa192eebde9054a2282449fe43919de9f0ee9b745d7eb49d3b0a5e56357912cc7d776390eddcab9dac85b77bdb17b4bdae\" />\n",
      "    <meta http-equiv=\"X-UA-Compatible\" content=\"IE=edge\" />\n",
      "    <meta name=\"viewport\" content=\"width=device-width, initial-scale=1.0\">\n",
      "\n",
      "    \n",
      "\n",
      "\n",
      "    \n",
      "    \n",
      "\n",
      "</head>\n",
      "\n",
      "<body class=\"\"    dir=\"ltr\">\n",
      "\n",
      "  <noscript>\n",
      "    <div id='noscript'>\n",
      "      Jupyter Server requires JavaScript.<br>\n",
      "      Please enable it to proceed. \n",
      "    </div>\n",
      "  </noscript>\n",
      "\n",
      "  <div id=\"header\" role=\"navigation\" aria-label=\"Top Menu\">\n",
      "    <div id=\"header-container\" class=\"container\">\n",
      "      <div id=\"jupyter_server\" class=\"nav navbar-brand\"><a href=\"/tree\" title='dashboard'>\n",
      "          <img src='/static/logo/logo.png?v=a2a176ee3cee251ffddf5fa21fe8e43727a9e5f87a06f9c91ad7b776d9e9d3d5e0159c16cc188a3965e00375fb4bc336c16067c688f5040c0c2d4bfdb852a9e4' alt='Jupyter Server' />\n",
      "        </a></div>\n",
      "\n",
      "      \n",
      "      \n",
      "\n",
      "      \n",
      "      \n",
      "\n",
      "    </div>\n",
      "    <div class=\"header-bar\"></div>\n",
      "\n",
      "    \n",
      "    \n",
      "  </div>\n",
      "\n",
      "  <div id=\"site\">\n",
      "    \n",
      "\n",
      "<div id=\"jupyter-main-app\" class=\"container\">\n",
      "    \n",
      "    \n",
      "    <div class=\"row\">\n",
      "        <div class=\"navbar col-sm-8\">\n",
      "            <div class=\"navbar-inner\">\n",
      "                <div class=\"container\">\n",
      "                    <div class=\"center-nav\">\n",
      "                        <form action=\"/login?next=%2Fview%2Fcrawlme.html\" method=\"post\" class=\"navbar-form pull-left\">\n",
      "                            <input type=\"hidden\" name=\"_xsrf\" value=\"2|a3ded033|1626656cd501d316389da9593a55ced1|1737898156\"/>\n",
      "                            \n",
      "                            <label for=\"password_input\"><strong>Password or token:</strong></label>\n",
      "                            \n",
      "                            <input type=\"password\" name=\"password\" id=\"password_input\" class=\"form-control\">\n",
      "                            <button type=\"submit\" class=\"btn btn-default\" id=\"login_submit\">Log in</button>\n",
      "                        </form>\n",
      "                    </div>\n",
      "                </div>\n",
      "            </div>\n",
      "        </div>\n",
      "    </div>\n",
      "    \n",
      "    \n",
      "    \n",
      "    \n",
      "    <div class=\"col-sm-6 col-sm-offset-3 text-left rendered_html\">\n",
      "        <h3>\n",
      "            Token authentication is enabled\n",
      "        </h3>\n",
      "        <p>\n",
      "            If no password has been configured, you need to open the\n",
      "            server with its login token in the URL, or paste it above.\n",
      "            This requirement will be lifted if you\n",
      "            <b><a href='https://jupyter-server.readthedocs.io/en/latest/operators/public-server.html'>\n",
      "                    enable a password</a></b>.\n",
      "        </p>\n",
      "        <p>\n",
      "            The command:\n",
      "        <pre>jupyter server list</pre>\n",
      "        will show you the URLs of running servers with their tokens,\n",
      "        which you can copy and paste into your browser. For example:\n",
      "        </p>\n",
      "        <pre>Currently running servers:\n",
      "http://localhost:8888/?token=c8de56fa... :: /Users/you/notebooks\n",
      "</pre>\n",
      "        <p>\n",
      "            or you can paste just the token value into the password field on this\n",
      "            page.\n",
      "        </p>\n",
      "        <p>\n",
      "            See\n",
      "            <b><a href='https://jupyter-server.readthedocs.io/en/latest/operators/public-server.html'>\n",
      "                    the documentation on how to enable a password</a>\n",
      "            </b>\n",
      "            in place of token authentication,\n",
      "            if you would like to avoid dealing with random tokens.\n",
      "        </p>\n",
      "        <p>\n",
      "            Cookies are required for authenticated access to the Jupyter server.\n",
      "        </p>\n",
      "        \n",
      "        <h3>Setup a Password</h3>\n",
      "        <p> You can also setup a password by entering your token and a new password\n",
      "            on the fields below:</p>\n",
      "        <form action=\"/login?next=%2Fview%2Fcrawlme.html\" method=\"post\" class=\"\">\n",
      "            <input type=\"hidden\" name=\"_xsrf\" value=\"2|a3ded033|1626656cd501d316389da9593a55ced1|1737898156\"/>\n",
      "            <div class=\"form-group\">\n",
      "                <label for=\"token_input\">\n",
      "                    <h4>Token</h4>\n",
      "                </label>\n",
      "                <input type=\"password\" name=\"password\" id=\"token_input\" class=\"form-control\">\n",
      "            </div>\n",
      "            <div class=\"form-group\">\n",
      "                <label for=\"new_password_input\">\n",
      "                    <h4>New Password</h4>\n",
      "                </label>\n",
      "                <input type=\"password\" name=\"new_password\" id=\"new_password_input\" class=\"form-control\" required>\n",
      "            </div>\n",
      "            <div class=\"form-group\">\n",
      "                <button type=\"submit\" class=\"btn btn-default\" id=\"login_new_pass_submit\">Log in and set new\n",
      "                    password</button>\n",
      "            </div>\n",
      "        </form>\n",
      "        \n",
      "\n",
      "    </div>\n",
      "    \n",
      "    \n",
      "</div>\n",
      "\n",
      "\n",
      "  </div>\n",
      "\n",
      "  \n",
      "  \n",
      "\n",
      "  \n",
      "\n",
      "\n",
      "  <script type='text/javascript'>\n",
      "    function _remove_token_from_url() {\n",
      "      if (window.location.search.length <= 1) {\n",
      "        return;\n",
      "      }\n",
      "      var search_parameters = window.location.search.slice(1).split('&');\n",
      "      for (var i = 0; i < search_parameters.length; i++) {\n",
      "        if (search_parameters[i].split('=')[0] === 'token') {\n",
      "          // remote token from search parameters\n",
      "          search_parameters.splice(i, 1);\n",
      "          var new_search = '';\n",
      "          if (search_parameters.length) {\n",
      "            new_search = '?' + search_parameters.join('&');\n",
      "          }\n",
      "          var new_url = window.location.origin +\n",
      "            window.location.pathname +\n",
      "            new_search +\n",
      "            window.location.hash;\n",
      "          window.history.replaceState({}, \"\", new_url);\n",
      "          return;\n",
      "        }\n",
      "      }\n",
      "    }\n",
      "    _remove_token_from_url();\n",
      "  </script>\n",
      "</body>\n",
      "\n",
      "</html>\n",
      "UTF-8\n",
      "http://localhost:8888/login?next=%2Fview%2Fcrawlme.html\n",
      "200\n"
     ]
    }
   ],
   "source": [
    "import requests\n",
    "r = requests.get(\"http://%s/view/crawlme.html\" % url_prefix)\n",
    "print(r.text)\n",
    "print(r.encoding)\n",
    "print(r.url)\n",
    "print(r.status_code)"
   ]
  },
  {
   "cell_type": "code",
   "execution_count": null,
   "id": "341e7669-7938-430c-92c8-0d48d5171a70",
   "metadata": {},
   "outputs": [],
   "source": []
  }
 ],
 "metadata": {
  "kernelspec": {
   "display_name": "Python 3 (ipykernel)",
   "language": "python",
   "name": "python3"
  },
  "language_info": {
   "codemirror_mode": {
    "name": "ipython",
    "version": 3
   },
   "file_extension": ".py",
   "mimetype": "text/x-python",
   "name": "python",
   "nbconvert_exporter": "python",
   "pygments_lexer": "ipython3",
   "version": "3.12.7"
  }
 },
 "nbformat": 4,
 "nbformat_minor": 5
}
