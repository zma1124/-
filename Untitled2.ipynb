{
 "cells": [
  {
   "cell_type": "code",
   "execution_count": 1,
   "id": "e471b28b-c780-48d8-9f87-93a9d91f3ce7",
   "metadata": {},
   "outputs": [],
   "source": [
    "  emp_dict=dict()"
   ]
  },
  {
   "cell_type": "code",
   "execution_count": 2,
   "id": "ec3e9369-6d7d-4f26-b86d-579492abc429",
   "metadata": {},
   "outputs": [
    {
     "data": {
      "text/plain": [
       "dict"
      ]
     },
     "execution_count": 2,
     "metadata": {},
     "output_type": "execute_result"
    }
   ],
   "source": [
    "dict"
   ]
  },
  {
   "cell_type": "code",
   "execution_count": 3,
   "id": "0a9c52a0-7fc7-4ddb-9707-97753eda08f8",
   "metadata": {},
   "outputs": [
    {
     "data": {
      "text/plain": [
       "{1: 2, 3: 4}"
      ]
     },
     "execution_count": 3,
     "metadata": {},
     "output_type": "execute_result"
    }
   ],
   "source": [
    "dict([(1,2),\n",
    "      (3,4)])"
   ]
  },
  {
   "cell_type": "code",
   "execution_count": 2,
   "id": "4ca8b8e5-1d26-43a2-be7e-643d5a29b918",
   "metadata": {},
   "outputs": [],
   "source": [
    "import lolviz     "
   ]
  },
  {
   "cell_type": "code",
   "execution_count": 3,
   "id": "6a49f30d-db58-4afe-ae7a-0e9f643212fc",
   "metadata": {},
   "outputs": [],
   "source": [
    "class LNode:\n",
    "    def __init__(self, value, next_):\n",
    "        self.value = value\n",
    "        self.next_ = next_"
   ]
  },
  {
   "cell_type": "code",
   "execution_count": 1,
   "id": "377def91-e6a7-4d50-87c3-41c1d70aea65",
   "metadata": {},
   "outputs": [
    {
     "name": "stdout",
     "output_type": "stream",
     "text": [
      "Looking in indexes: https://mirrors.tuna.tsinghua.edu.cn/pypi/web/simple\n",
      "Collecting lolviz\n",
      "  Using cached lolviz-1.4.4-py3-none-any.whl\n",
      "Requirement already satisfied: graphviz in d:\\anaconda3\\lib\\site-packages (from lolviz) (0.20.3)\n",
      "Installing collected packages: lolviz\n",
      "Successfully installed lolviz-1.4.4\n"
     ]
    }
   ],
   "source": [
    "!pip install lolviz"
   ]
  },
  {
   "cell_type": "code",
   "execution_count": 4,
   "id": "7233dad0-9d31-4f96-b31f-8829385dbd75",
   "metadata": {},
   "outputs": [],
   "source": [
    "def init_linked_list(input_list):\n",
    "    if not input_list:\n",
    "        return None\n",
    "    else:\n",
    "        return LNode(input_list[0], init_linked_list(input_list[1:]))"
   ]
  },
  {
   "cell_type": "code",
   "execution_count": null,
   "id": "7dd24562-7de8-4747-bb14-c6e4c11752f3",
   "metadata": {},
   "outputs": [],
   "source": []
  }
 ],
 "metadata": {
  "kernelspec": {
   "display_name": "Python 3 (ipykernel)",
   "language": "python",
   "name": "python3"
  },
  "language_info": {
   "codemirror_mode": {
    "name": "ipython",
    "version": 3
   },
   "file_extension": ".py",
   "mimetype": "text/x-python",
   "name": "python",
   "nbconvert_exporter": "python",
   "pygments_lexer": "ipython3",
   "version": "3.12.7"
  }
 },
 "nbformat": 4,
 "nbformat_minor": 5
}
