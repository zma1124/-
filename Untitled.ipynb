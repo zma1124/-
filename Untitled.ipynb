{
 "cells": [
  {
   "cell_type": "code",
   "execution_count": 3,
   "id": "85f72459-22df-4ff3-b531-7d1df1b2dbb2",
   "metadata": {},
   "outputs": [],
   "source": [
    "import re"
   ]
  },
  {
   "cell_type": "raw",
   "id": "705f423b-5a29-465c-9bf5-c0a9588d18cb",
   "metadata": {},
   "source": []
  },
  {
   "cell_type": "code",
   "execution_count": 9,
   "id": "18510b21-b1b2-4e90-be92-7b901f54d549",
   "metadata": {},
   "outputs": [],
   "source": [
    "m=re.match(r\"ab*?\",\"abbb\")"
   ]
  },
  {
   "cell_type": "code",
   "execution_count": 11,
   "id": "80adc25d-cb86-4622-97f6-d2a501753149",
   "metadata": {},
   "outputs": [
    {
     "name": "stdout",
     "output_type": "stream",
     "text": [
      "a\n"
     ]
    }
   ],
   "source": [
    "if m:\n",
    "    print(m.group())\n",
    "else:\n",
    "    print(\"not match\")"
   ]
  },
  {
   "cell_type": "code",
   "execution_count": 15,
   "id": "b22b453b-9327-4638-b69f-fd8911834fee",
   "metadata": {},
   "outputs": [],
   "source": [
    "pattern=re.compile(r\"\\ba\\d*\\b\")"
   ]
  },
  {
   "cell_type": "code",
   "execution_count": 33,
   "id": "e497396b-3ee7-40e2-a14f-4642c4605f66",
   "metadata": {},
   "outputs": [],
   "source": [
    "m=pattern.search(\"dabc a123 a a123\")"
   ]
  },
  {
   "cell_type": "code",
   "execution_count": 35,
   "id": "939b02b5-bc7d-4e40-bc1e-377141a43567",
   "metadata": {},
   "outputs": [
    {
     "data": {
      "text/plain": [
       "'a123'"
      ]
     },
     "execution_count": 35,
     "metadata": {},
     "output_type": "execute_result"
    }
   ],
   "source": [
    "m.group()"
   ]
  },
  {
   "cell_type": "code",
   "execution_count": 37,
   "id": "21ce5caa-5808-49b6-80f1-bbd477b94829",
   "metadata": {},
   "outputs": [
    {
     "data": {
      "text/plain": [
       "['a123', 'a', 'a123']"
      ]
     },
     "execution_count": 37,
     "metadata": {},
     "output_type": "execute_result"
    }
   ],
   "source": [
    "pattern.findall(\"dabc a123 a a123\")"
   ]
  },
  {
   "cell_type": "code",
   "execution_count": 41,
   "id": "ac802849-8d16-4aa4-9df1-75f7013ee9be",
   "metadata": {},
   "outputs": [
    {
     "data": {
      "text/plain": [
       "['aa', '2']"
      ]
     },
     "execution_count": 41,
     "metadata": {},
     "output_type": "execute_result"
    }
   ],
   "source": [
    "re.findall(r\"(.+)\\1\",\"aaaa b123 b22\")"
   ]
  },
  {
   "cell_type": "code",
   "execution_count": 45,
   "id": "a1153fc8-3dca-469a-88f0-ee0a82863013",
   "metadata": {},
   "outputs": [],
   "source": [
    "import requests"
   ]
  },
  {
   "cell_type": "raw",
   "id": "4d6a84ba-1858-48d2-9f74-b372e38674ad",
   "metadata": {},
   "source": [
    "url=\"http://oscar-lab.org/people/~zren/crawlme.html\"\n",
    "response=request.get(url)\n",
    "response.text"
   ]
  },
  {
   "cell_type": "code",
   "execution_count": 80,
   "id": "15b8e5f0-7972-4e20-a662-eea6acad4ecf",
   "metadata": {},
   "outputs": [
    {
     "name": "stdout",
     "output_type": "stream",
     "text": [
      "Looking in indexes: https://mirrors.tuna.tsinghua.edu.cn/pypi/web/simpleNote: you may need to restart the kernel to use updated packages.\n",
      "\n",
      "Requirement already satisfied: urllib3 in d:\\anaconda3\\lib\\site-packages (1.23)\n"
     ]
    }
   ],
   "source": [
    "pip install urllib3"
   ]
  },
  {
   "cell_type": "code",
   "execution_count": 96,
   "id": "62d6c56c-110a-4d9c-b6f7-0aad03070660",
   "metadata": {},
   "outputs": [],
   "source": [
    "from bs4 import BeautifulSoup"
   ]
  },
  {
   "cell_type": "code",
   "execution_count": 98,
   "id": "a9a0c5a0-b7e3-46f7-887c-92cebc8e630a",
   "metadata": {},
   "outputs": [
    {
     "name": "stderr",
     "output_type": "stream",
     "text": [
      "C:\\Users\\17706\\AppData\\Local\\Temp\\ipykernel_32304\\4231460506.py:2: MarkupResemblesLocatorWarning: The input looks more like a URL than markup. You may want to use an HTTP client like requests to get the document behind the URL, and feed that document to Beautiful Soup.\n",
      "  doc=BeautifulSoup(url,'html.parser')\n"
     ]
    }
   ],
   "source": [
    "url=\"http://oscar-lab.org/people/~zren/crawlme.html\"\n",
    "doc=BeautifulSoup(url,'html.parser')"
   ]
  },
  {
   "cell_type": "code",
   "execution_count": 53,
   "id": "56b2425b-951a-48d8-a235-3a43084ff9a3",
   "metadata": {},
   "outputs": [
    {
     "name": "stdout",
     "output_type": "stream",
     "text": [
      "<html>\n",
      " <body>\n",
      "  <p>\n",
      "   http://oscar-lab.org/people/~zren/crawlme.html\n",
      "  </p>\n",
      " </body>\n",
      "</html>\n",
      "\n"
     ]
    }
   ],
   "source": [
    "print(doc.prettify())"
   ]
  },
  {
   "cell_type": "code",
   "execution_count": 55,
   "id": "6144933c-f7c3-4838-8702-fbe706ee2372",
   "metadata": {},
   "outputs": [
    {
     "data": {
      "text/plain": [
       "<body><p>http://oscar-lab.org/people/~zren/crawlme.html</p></body>"
      ]
     },
     "execution_count": 55,
     "metadata": {},
     "output_type": "execute_result"
    }
   ],
   "source": [
    "doc.body"
   ]
  },
  {
   "cell_type": "code",
   "execution_count": null,
   "id": "7edc0068-8567-4c8a-a2df-49b69b229e4a",
   "metadata": {},
   "outputs": [],
   "source": []
  }
 ],
 "metadata": {
  "kernelspec": {
   "display_name": "Python 3 (ipykernel)",
   "language": "python",
   "name": "python3"
  },
  "language_info": {
   "codemirror_mode": {
    "name": "ipython",
    "version": 3
   },
   "file_extension": ".py",
   "mimetype": "text/x-python",
   "name": "python",
   "nbconvert_exporter": "python",
   "pygments_lexer": "ipython3",
   "version": "3.12.7"
  }
 },
 "nbformat": 4,
 "nbformat_minor": 5
}
