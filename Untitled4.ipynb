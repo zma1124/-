{
 "cells": [
  {
   "cell_type": "code",
   "execution_count": 1,
   "id": "39310707-f565-4c1a-95a2-1efc6be48e5d",
   "metadata": {},
   "outputs": [
    {
     "data": {
      "text/plain": [
       "4"
      ]
     },
     "execution_count": 1,
     "metadata": {},
     "output_type": "execute_result"
    }
   ],
   "source": [
    "2 + 2"
   ]
  },
  {
   "cell_type": "code",
   "execution_count": 2,
   "id": "c603c1c7-b4fe-4ddd-afc5-7fa628f33abe",
   "metadata": {},
   "outputs": [
    {
     "data": {
      "text/plain": [
       "20"
      ]
     },
     "execution_count": 2,
     "metadata": {},
     "output_type": "execute_result"
    }
   ],
   "source": [
    "50 - 5 * 6"
   ]
  },
  {
   "cell_type": "code",
   "execution_count": 3,
   "id": "c3c20e05-2f65-4d6b-90c1-7c811d9c6027",
   "metadata": {},
   "outputs": [
    {
     "data": {
      "text/plain": [
       "1.6"
      ]
     },
     "execution_count": 3,
     "metadata": {},
     "output_type": "execute_result"
    }
   ],
   "source": [
    "8 / 5"
   ]
  },
  {
   "cell_type": "code",
   "execution_count": 4,
   "id": "3d57b84b-e110-4cef-a4ce-06485efa3a0c",
   "metadata": {},
   "outputs": [
    {
     "data": {
      "text/plain": [
       "1"
      ]
     },
     "execution_count": 4,
     "metadata": {},
     "output_type": "execute_result"
    }
   ],
   "source": [
    "8 // 5"
   ]
  },
  {
   "cell_type": "code",
   "execution_count": 5,
   "id": "5041275b-4ff8-4fff-a317-3c65850ff174",
   "metadata": {},
   "outputs": [
    {
     "data": {
      "text/plain": [
       "'\"I\\'m abc,\" he said.'"
      ]
     },
     "execution_count": 5,
     "metadata": {},
     "output_type": "execute_result"
    }
   ],
   "source": [
    "'\"I\\'m abc,\" he said.'"
   ]
  },
  {
   "cell_type": "code",
   "execution_count": 7,
   "id": "96874eb3-b84e-4043-a727-8033722320fc",
   "metadata": {},
   "outputs": [
    {
     "name": "stdout",
     "output_type": "stream",
     "text": [
      "\"I'm abc,\" he said.\n"
     ]
    }
   ],
   "source": [
    "print('\"I\\'m abc,\" he said.')"
   ]
  },
  {
   "cell_type": "code",
   "execution_count": 8,
   "id": "cceba935-e014-4601-8557-0e0352dd3507",
   "metadata": {},
   "outputs": [],
   "source": [
    "s = 'First word.\\nSecond word.'"
   ]
  },
  {
   "cell_type": "code",
   "execution_count": 9,
   "id": "295b3a2d-9b3d-4255-94e5-25117d604627",
   "metadata": {},
   "outputs": [
    {
     "data": {
      "text/plain": [
       "'First word.\\nSecond word.'"
      ]
     },
     "execution_count": 9,
     "metadata": {},
     "output_type": "execute_result"
    }
   ],
   "source": [
    "s"
   ]
  },
  {
   "cell_type": "code",
   "execution_count": 10,
   "id": "f93a91dd-4577-42be-96b8-58ccf9c3d282",
   "metadata": {},
   "outputs": [
    {
     "name": "stdout",
     "output_type": "stream",
     "text": [
      "First word.\n",
      "Second word.\n"
     ]
    }
   ],
   "source": [
    "print(s)"
   ]
  },
  {
   "cell_type": "code",
   "execution_count": 11,
   "id": "0da1c3f3-94b6-4a79-993c-bef1ba2e5ea6",
   "metadata": {},
   "outputs": [
    {
     "data": {
      "text/plain": [
       "'School of Software'"
      ]
     },
     "execution_count": 11,
     "metadata": {},
     "output_type": "execute_result"
    }
   ],
   "source": [
    "'School' ' of' ' Software'"
   ]
  },
  {
   "cell_type": "code",
   "execution_count": 12,
   "id": "2ad67eb1-80e4-476c-9bca-fd07c5fc7fc5",
   "metadata": {},
   "outputs": [],
   "source": [
    "programming = 'Programming'"
   ]
  },
  {
   "cell_type": "code",
   "execution_count": 13,
   "id": "fc2cec3d-f80d-4c34-b8bb-56b1a912676c",
   "metadata": {},
   "outputs": [
    {
     "data": {
      "text/plain": [
       "'P'"
      ]
     },
     "execution_count": 13,
     "metadata": {},
     "output_type": "execute_result"
    }
   ],
   "source": [
    "programming[0]"
   ]
  },
  {
   "cell_type": "code",
   "execution_count": 14,
   "id": "e8ef2913-4f02-4b70-970a-4b04675e2f43",
   "metadata": {},
   "outputs": [
    {
     "data": {
      "text/plain": [
       "'g'"
      ]
     },
     "execution_count": 14,
     "metadata": {},
     "output_type": "execute_result"
    }
   ],
   "source": [
    "programming[-1]"
   ]
  },
  {
   "cell_type": "code",
   "execution_count": 15,
   "id": "00be082f-6491-4233-af42-950365b02814",
   "metadata": {},
   "outputs": [
    {
     "data": {
      "text/plain": [
       "'Pr'"
      ]
     },
     "execution_count": 15,
     "metadata": {},
     "output_type": "execute_result"
    }
   ],
   "source": [
    "programming[:2]"
   ]
  },
  {
   "cell_type": "code",
   "execution_count": 16,
   "id": "3b40c621-5750-407a-bf8f-7e40fa7f7a98",
   "metadata": {},
   "outputs": [
    {
     "data": {
      "text/plain": [
       "'ogramming'"
      ]
     },
     "execution_count": 16,
     "metadata": {},
     "output_type": "execute_result"
    }
   ],
   "source": [
    "programming[2:]"
   ]
  },
  {
   "cell_type": "code",
   "execution_count": 17,
   "id": "51f06c21-c1e5-4bab-8279-b11261db0256",
   "metadata": {},
   "outputs": [
    {
     "data": {
      "text/plain": [
       "[1, 4, 9, 16, 25]"
      ]
     },
     "execution_count": 17,
     "metadata": {},
     "output_type": "execute_result"
    }
   ],
   "source": [
    "square = [1, 4, 9, 16, 25]\n",
    "square"
   ]
  },
  {
   "cell_type": "code",
   "execution_count": 18,
   "id": "2804f84c-63f8-4fc2-9f95-acd58d7ed1a3",
   "metadata": {},
   "outputs": [
    {
     "data": {
      "text/plain": [
       "1"
      ]
     },
     "execution_count": 18,
     "metadata": {},
     "output_type": "execute_result"
    }
   ],
   "source": [
    "square[0]"
   ]
  },
  {
   "cell_type": "code",
   "execution_count": 19,
   "id": "9361fab6-6046-45df-bfe0-ccbbfc0be3c2",
   "metadata": {},
   "outputs": [
    {
     "data": {
      "text/plain": [
       "[9, 16, 25]"
      ]
     },
     "execution_count": 19,
     "metadata": {},
     "output_type": "execute_result"
    }
   ],
   "source": [
    "square[-3:]"
   ]
  },
  {
   "cell_type": "code",
   "execution_count": 20,
   "id": "3f38cc73-550a-4a3f-a4f8-02e897aa987b",
   "metadata": {},
   "outputs": [
    {
     "data": {
      "text/plain": [
       "[1, 4, 9, 16, 25, 1, 4, 9, 16, 25, 1, 4, 9, 16, 25]"
      ]
     },
     "execution_count": 20,
     "metadata": {},
     "output_type": "execute_result"
    }
   ],
   "source": [
    "square * 3"
   ]
  },
  {
   "cell_type": "code",
   "execution_count": 21,
   "id": "afcc808a-465c-4d5e-a68e-b1a741cadd64",
   "metadata": {},
   "outputs": [
    {
     "data": {
      "text/plain": [
       "5"
      ]
     },
     "execution_count": 21,
     "metadata": {},
     "output_type": "execute_result"
    }
   ],
   "source": [
    "len(square) "
   ]
  },
  {
   "cell_type": "code",
   "execution_count": 22,
   "id": "da819d7a-c678-43df-9003-ecc042eaaea7",
   "metadata": {},
   "outputs": [],
   "source": [
    "a = [1, 2, 3]\n",
    "b = [4, 5, 6]\n",
    "c = [a, b]"
   ]
  },
  {
   "cell_type": "code",
   "execution_count": 23,
   "id": "d6c4c26a-3628-4bd0-9c8c-9d5c908b4e82",
   "metadata": {},
   "outputs": [
    {
     "data": {
      "text/plain": [
       "[[1, 2, 3], [4, 5, 6]]"
      ]
     },
     "execution_count": 23,
     "metadata": {},
     "output_type": "execute_result"
    }
   ],
   "source": [
    "c"
   ]
  },
  {
   "cell_type": "code",
   "execution_count": 24,
   "id": "482c1ea6-a998-44f0-9a6f-4d7fcc3ad69f",
   "metadata": {},
   "outputs": [
    {
     "name": "stdout",
     "output_type": "stream",
     "text": [
      "More\n"
     ]
    }
   ],
   "source": [
    "x = 20\n",
    "if x < 0:\n",
    "    x = 0\n",
    "    print(\"negative value of x\")\n",
    "elif x == 0:\n",
    "    print(\"zero\")\n",
    "elif x == 1:\n",
    "    print(\"single\")\n",
    "else:\n",
    "    print(\"More\")"
   ]
  },
  {
   "cell_type": "code",
   "execution_count": 25,
   "id": "c8300ed2-77b6-44c5-9cbb-d206cebc3cc7",
   "metadata": {},
   "outputs": [
    {
     "name": "stdout",
     "output_type": "stream",
     "text": [
      "Java 4\n",
      "C++ 3\n",
      "Ruby 4\n"
     ]
    }
   ],
   "source": [
    "words = ['Java', 'C++', 'Ruby']\n",
    "for w in words:\n",
    "    print(w, len(w))"
   ]
  },
  {
   "cell_type": "code",
   "execution_count": 26,
   "id": "04b9add6-63a7-41b9-8731-7e10f8f866a8",
   "metadata": {},
   "outputs": [
    {
     "name": "stdout",
     "output_type": "stream",
     "text": [
      "7\n"
     ]
    }
   ],
   "source": [
    "def foo():\n",
    "    print(\"hello world\")\n",
    "def add(x, y):\n",
    "    return x + y\n",
    "print(add(3, 4))"
   ]
  },
  {
   "cell_type": "code",
   "execution_count": 27,
   "id": "08e6382f-36c1-4497-8232-7e5810f468b9",
   "metadata": {},
   "outputs": [
    {
     "name": "stdout",
     "output_type": "stream",
     "text": [
      "hello world\n"
     ]
    }
   ],
   "source": [
    "foo()"
   ]
  },
  {
   "cell_type": "code",
   "execution_count": 28,
   "id": "fcd4727c-d66f-40a8-aaaa-37f6096a22bb",
   "metadata": {},
   "outputs": [],
   "source": [
    "import turtle\n",
    "def square(length):\n",
    "    turtle.forward(length)\n",
    "    turtle.left(90)\n",
    "    turtle.forward(length)\n",
    "    turtle.left(90)\n",
    "    turtle.forward(length)\n",
    "    turtle.left(90)\n",
    "    turtle.forward(length)\n",
    "    turtle.left(90)"
   ]
  },
  {
   "cell_type": "code",
   "execution_count": 29,
   "id": "9a6878bc-cc1e-4023-a721-db9b320cde28",
   "metadata": {},
   "outputs": [],
   "source": [
    "square(10)"
   ]
  },
  {
   "cell_type": "code",
   "execution_count": 30,
   "id": "9cc2379f-5a15-430c-8bb7-4521e25b263a",
   "metadata": {},
   "outputs": [],
   "source": [
    "def tree(len, n):\n",
    "    if n <= 0:\n",
    "        return\n",
    "    else:\n",
    "        turtle.forward(len)\n",
    "        turtle.left(45)\n",
    "        tree(len * 0.5, n - 1)\n",
    "        turtle.right(90)\n",
    "        tree(len * 0.5, n - 1)\n",
    "        turtle.left(45)\n",
    "        turtle.backward(len)\n",
    "turtle.speed(0)\n",
    "tree(200, 9)"
   ]
  },
  {
   "cell_type": "code",
   "execution_count": 34,
   "id": "e3d1fa41-643e-4b0b-867d-ff3d11954cda",
   "metadata": {},
   "outputs": [],
   "source": [
    "def snowflake(length, threshold):\n",
    "    if length < threshold:\n",
    "        turtle.forward(length)\n",
    "    else:\n",
    "        length = length / 3\n",
    "        #segment 1\n",
    "        snowflake(length, threshold)\n",
    "        turtle.left(60)\n",
    "        #segment 2\n",
    "        snowflake(length, threshold)\n",
    "        turtle.right(120)\n",
    "        #segment 3\n",
    "        snowflake(length, threshold)\n",
    "        turtle.left(60)\n",
    "        #segment 4\n",
    "        snowflake(length, threshold)\n",
    "for i in range(3):\n",
    "    snowflake(300, 10)\n",
    "    turtle.right(120)"
   ]
  },
  {
   "cell_type": "code",
   "execution_count": null,
   "id": "f75f88ed-6d3c-4552-a124-836740486469",
   "metadata": {},
   "outputs": [],
   "source": [
    "def triangle(length, threshold):\n",
    "    if length < threshold:\n",
    "        return\n",
    "    else:\n",
    "        for i in range(3):\n",
    "            turtle.forward(length)\n",
    "            triangle(length/2, threshold)\n",
    "            turtle.backward(length)\n",
    "            turtle.left(120)\n",
    "triangle(100, 1)"
   ]
  },
  {
   "cell_type": "code",
   "execution_count": null,
   "id": "5da82959-62ae-4001-99c3-7070bcbdc4a1",
   "metadata": {},
   "outputs": [],
   "source": []
  }
 ],
 "metadata": {
  "kernelspec": {
   "display_name": "Python 3 (ipykernel)",
   "language": "python",
   "name": "python3"
  },
  "language_info": {
   "codemirror_mode": {
    "name": "ipython",
    "version": 3
   },
   "file_extension": ".py",
   "mimetype": "text/x-python",
   "name": "python",
   "nbconvert_exporter": "python",
   "pygments_lexer": "ipython3",
   "version": "3.12.7"
  }
 },
 "nbformat": 4,
 "nbformat_minor": 5
}
