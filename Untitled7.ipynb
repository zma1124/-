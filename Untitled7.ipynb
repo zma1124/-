{
 "cells": [
  {
   "cell_type": "code",
   "execution_count": 1,
   "id": "8647dccf-1b10-4dfd-90c7-2aba858e0f6e",
   "metadata": {},
   "outputs": [
    {
     "name": "stdout",
     "output_type": "stream",
     "text": [
      "Looking in indexes: https://mirrors.tuna.tsinghua.edu.cn/pypi/web/simple\n",
      "Collecting z3-solver\n",
      "  Downloading https://mirrors.tuna.tsinghua.edu.cn/pypi/web/packages/3c/4b/5626ed801d6fb4b383628a544af6cc0c53b3ef00451e2e524c5013a39316/z3_solver-4.13.4.0-py3-none-win_amd64.whl (16.1 MB)\n",
      "     ---------------------------------------- 0.0/16.1 MB ? eta -:--:--\n",
      "     ------- -------------------------------- 2.9/16.1 MB 21.0 MB/s eta 0:00:01\n",
      "     ------------------ --------------------- 7.3/16.1 MB 20.6 MB/s eta 0:00:01\n",
      "     -------------------------- ------------ 11.0/16.1 MB 19.6 MB/s eta 0:00:01\n",
      "     --------------------------------------  16.0/16.1 MB 21.0 MB/s eta 0:00:01\n",
      "     --------------------------------------- 16.1/16.1 MB 18.8 MB/s eta 0:00:00\n",
      "Installing collected packages: z3-solver\n",
      "Successfully installed z3-solver-4.13.4.0\n"
     ]
    }
   ],
   "source": [
    "!pip install z3-solver"
   ]
  },
  {
   "cell_type": "code",
   "execution_count": 2,
   "id": "60117004-d958-428b-a5cb-7e1e7c4d0ba2",
   "metadata": {},
   "outputs": [
    {
     "name": "stdout",
     "output_type": "stream",
     "text": [
      "[rabbits = 12, chicken = 23]\n"
     ]
    }
   ],
   "source": [
    "import z3\n",
    "chicken = z3.Int(\"chicken\")\n",
    "rabbits = z3.Int(\"rabbits\")\n",
    "solver = z3.Solver()\n",
    "solver.add(chicken >= 1)\n",
    "solver.add(rabbits >= 1)\n",
    "solver.add(chicken + rabbits == 35)\n",
    "solver.add(chicken * 2 + rabbits * 4 == 94)\n",
    "if solver.check() == z3.sat:\n",
    "    print(solver.model())\n",
    "else:\n",
    "    print(\"not satisfiable\")"
   ]
  },
  {
   "cell_type": "code",
   "execution_count": 6,
   "id": "fcce057f-d86e-4b59-8210-f2c20fbc7bd6",
   "metadata": {},
   "outputs": [
    {
     "name": "stdout",
     "output_type": "stream",
     "text": [
      "1\n"
     ]
    }
   ],
   "source": [
    "circle, triangle, square = z3.Ints(\"circle triangle square\")\n",
    "solver = z3.Solver()\n",
    "solver.add(circle+circle==10)\n",
    "solver.add(circle*square+square==12)\n",
    "solver.add(circle*square- triangle * circle == circle)\n",
    "if solver.check() == z3.sat:\n",
    "    print(solver.model()[triangle])"
   ]
  },
  {
   "cell_type": "code",
   "execution_count": 7,
   "id": "f4053a63-4991-4f96-ba13-ea5e2029a1ab",
   "metadata": {},
   "outputs": [
    {
     "name": "stdout",
     "output_type": "stream",
     "text": [
      "not satisfiable\n"
     ]
    }
   ],
   "source": [
    "A, B, C, D = z3.Bools(\"A B C D\")\n",
    "solver = z3.Solver()\n",
    "# A -> B\n",
    "solver.add(-1 * z3.If(A, 1, 0) + z3.If(B, 1, 0) >=  0)\n",
    "# A -> C\n",
    "solver.add(-1 * z3.If(A, 1, 0) + z3.If(C, 1, 0) >= 0)\n",
    "# B -> D\n",
    "solver.add(-1 * z3.If(B, 1, 0) + z3.If(D, 1, 0) >= 0)\n",
    "# C -x- D\n",
    "solver.add(z3.If(C, 1, 0) + z3.If(D, 1, 0) <= 1)\n",
    "solver.add(A == True)\n",
    "\n",
    "if solver.check() == z3.sat:\n",
    "    print(solver.model())\n",
    "else:\n",
    "    print(\"not satisfiable\")"
   ]
  },
  {
   "cell_type": "code",
   "execution_count": null,
   "id": "95284326-7510-4597-ae51-4d3f0261c808",
   "metadata": {},
   "outputs": [],
   "source": []
  }
 ],
 "metadata": {
  "kernelspec": {
   "display_name": "Python 3 (ipykernel)",
   "language": "python",
   "name": "python3"
  },
  "language_info": {
   "codemirror_mode": {
    "name": "ipython",
    "version": 3
   },
   "file_extension": ".py",
   "mimetype": "text/x-python",
   "name": "python",
   "nbconvert_exporter": "python",
   "pygments_lexer": "ipython3",
   "version": "3.12.7"
  }
 },
 "nbformat": 4,
 "nbformat_minor": 5
}
