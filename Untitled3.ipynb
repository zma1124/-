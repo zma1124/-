{
 "cells": [
  {
   "cell_type": "code",
   "execution_count": 1,
   "id": "b7d97269-7b0b-4021-94f9-cd85fb08ac24",
   "metadata": {},
   "outputs": [],
   "source": [
    "import sqlite3"
   ]
  },
  {
   "cell_type": "code",
   "execution_count": 2,
   "id": "6cef7fe5-d6fa-40d1-be7d-6fecaed2839e",
   "metadata": {},
   "outputs": [
    {
     "data": {
      "text/plain": [
       "<sqlite3.Cursor at 0x15ebadde8c0>"
      ]
     },
     "execution_count": 2,
     "metadata": {},
     "output_type": "execute_result"
    }
   ],
   "source": [
    "con=sqlite3.connect(\"student.db\")\n",
    "con.execute(\"create table students(id int,name text,age int)\")\n",
    "con.execute(\"insert into students values(123,'zhangsan',19)\")\n",
    "con.execute(\"insert into students values(234,'lisi',19)\")"
   ]
  },
  {
   "cell_type": "code",
   "execution_count": 15,
   "id": "4f8a2206-2a0c-4490-b5ad-1390847dbc2e",
   "metadata": {},
   "outputs": [],
   "source": [
    "def check(con,name):\n",
    "    sql=f\"select * from students where name='{name}'\"\n",
    "    print(sql)\n",
    "    cursor=con.execute(sql)\n",
    "    for entry in cursor:\n",
    "        print(entry)"
   ]
  },
  {
   "cell_type": "code",
   "execution_count": 5,
   "id": "e7c27728-74da-422b-a7df-3a6b47327dd5",
   "metadata": {},
   "outputs": [
    {
     "name": "stdout",
     "output_type": "stream",
     "text": [
      "(123, 'zhangsan', 19)\n"
     ]
    }
   ],
   "source": [
    "check(con,\"zhangsan\")"
   ]
  },
  {
   "cell_type": "code",
   "execution_count": 18,
   "id": "8d2bc000-3899-40d2-8b02-0f5ab13e28bd",
   "metadata": {},
   "outputs": [
    {
     "name": "stdout",
     "output_type": "stream",
     "text": [
      "select * from students where name='abc' or true -- '\n",
      "(123, 'zhangsan', 19)\n",
      "(234, 'lisi', 19)\n"
     ]
    }
   ],
   "source": [
    "check(con,\"abc' or true -- \")"
   ]
  },
  {
   "cell_type": "code",
   "execution_count": 27,
   "id": "d4c59559-c80b-4bed-965c-6b18f180c325",
   "metadata": {},
   "outputs": [],
   "source": [
    "def check2(con,name):\n",
    "    sql=\"select * from students where name=?\"\n",
    "    cursor=con.execute(sql,(name,))\n",
    "    for entry in cursor:\n",
    "        print(entry)"
   ]
  },
  {
   "cell_type": "code",
   "execution_count": 30,
   "id": "997b068f-7d08-468d-a42a-c9a9c24dc846",
   "metadata": {},
   "outputs": [
    {
     "name": "stdout",
     "output_type": "stream",
     "text": [
      "(123, 'zhangsan', 19)\n"
     ]
    }
   ],
   "source": [
    "check2(con,\"zhangsan\")"
   ]
  },
  {
   "cell_type": "code",
   "execution_count": 31,
   "id": "140a3055-815b-4ee3-9b2f-e4022d39f7b2",
   "metadata": {},
   "outputs": [],
   "source": [
    "check2(con,\"abc' or true --\")"
   ]
  },
  {
   "cell_type": "code",
   "execution_count": 32,
   "id": "08614674-70c7-47fb-8735-a2772fdb50b8",
   "metadata": {},
   "outputs": [
    {
     "data": {
      "text/plain": [
       "<sqlite3.Cursor at 0x15ebbc12dc0>"
      ]
     },
     "execution_count": 32,
     "metadata": {},
     "output_type": "execute_result"
    }
   ],
   "source": [
    "data={\n",
    "    (125,\"zhouwu\",20),\n",
    "    (126,\"acb\",21),\n",
    "    (127,\"abc\",22),\n",
    "}\n",
    "con.executemany(\"insert into students values (?,?,?)\",data)"
   ]
  },
  {
   "cell_type": "code",
   "execution_count": null,
   "id": "b78e1d8b-75f5-48cf-ab82-97517020dccb",
   "metadata": {},
   "outputs": [],
   "source": []
  }
 ],
 "metadata": {
  "kernelspec": {
   "display_name": "Python 3 (ipykernel)",
   "language": "python",
   "name": "python3"
  },
  "language_info": {
   "codemirror_mode": {
    "name": "ipython",
    "version": 3
   },
   "file_extension": ".py",
   "mimetype": "text/x-python",
   "name": "python",
   "nbconvert_exporter": "python",
   "pygments_lexer": "ipython3",
   "version": "3.12.7"
  }
 },
 "nbformat": 4,
 "nbformat_minor": 5
}
